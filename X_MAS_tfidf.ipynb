{
 "cells": [
  {
   "cell_type": "code",
   "execution_count": 4,
   "metadata": {
    "colab": {
     "base_uri": "https://localhost:8080/"
    },
    "id": "BOwgg3HpJwnu",
    "outputId": "69af340a-7f05-4287-c7b6-064062f4f44b"
   },
   "outputs": [
    {
     "name": "stdout",
     "output_type": "stream",
     "text": [
      "Defaulting to user installation because normal site-packages is not writeable\n",
      "Collecting lightgbm\n",
      "  Using cached lightgbm-3.3.3-py3-none-win_amd64.whl (1.0 MB)\n",
      "Requirement already satisfied: scikit-learn!=0.22.0 in c:\\programdata\\anaconda3\\lib\\site-packages (from lightgbm) (1.0.2)\n",
      "Requirement already satisfied: scipy in c:\\programdata\\anaconda3\\lib\\site-packages (from lightgbm) (1.9.1)\n",
      "Requirement already satisfied: numpy in c:\\programdata\\anaconda3\\lib\\site-packages (from lightgbm) (1.21.5)\n",
      "Requirement already satisfied: wheel in c:\\programdata\\anaconda3\\lib\\site-packages (from lightgbm) (0.37.1)\n",
      "Requirement already satisfied: threadpoolctl>=2.0.0 in c:\\programdata\\anaconda3\\lib\\site-packages (from scikit-learn!=0.22.0->lightgbm) (2.2.0)\n",
      "Requirement already satisfied: joblib>=0.11 in c:\\programdata\\anaconda3\\lib\\site-packages (from scikit-learn!=0.22.0->lightgbm) (1.1.0)\n",
      "Installing collected packages: lightgbm\n",
      "Successfully installed lightgbm-3.3.3\n"
     ]
    }
   ],
   "source": [
    "!pip install lightgbm "
   ]
  },
  {
   "cell_type": "code",
   "execution_count": 28,
   "metadata": {
    "colab": {
     "base_uri": "https://localhost:8080/"
    },
    "id": "1K-R2pzaG3hO",
    "outputId": "345f74a3-2f38-4d58-bd21-f9bf4f627617"
   },
   "outputs": [
    {
     "name": "stderr",
     "output_type": "stream",
     "text": [
      "[nltk_data] Downloading package stopwords to\n",
      "[nltk_data]     C:\\Users\\isdom\\AppData\\Roaming\\nltk_data...\n",
      "[nltk_data]   Package stopwords is already up-to-date!\n",
      "[nltk_data] Downloading package wordnet to\n",
      "[nltk_data]     C:\\Users\\isdom\\AppData\\Roaming\\nltk_data...\n",
      "[nltk_data]   Package wordnet is already up-to-date!\n",
      "[nltk_data] Downloading package omw-1.4 to\n",
      "[nltk_data]     C:\\Users\\isdom\\AppData\\Roaming\\nltk_data...\n",
      "[nltk_data]   Package omw-1.4 is already up-to-date!\n",
      "[nltk_data] Downloading package punkt to\n",
      "[nltk_data]     C:\\Users\\isdom\\AppData\\Roaming\\nltk_data...\n",
      "[nltk_data]   Package punkt is already up-to-date!\n"
     ]
    }
   ],
   "source": [
    "import pandas as pd\n",
    "import numpy as np\n",
    "\n",
    "from matplotlib import pyplot as plt\n",
    "import seaborn as sns\n",
    "\n",
    "import string\n",
    "from tqdm.notebook import tqdm\n",
    "import matplotlib\n",
    "from sklearn.metrics import classification_report\n",
    "\n",
    "import nltk\n",
    "nltk.download('stopwords')\n",
    "nltk.download('wordnet')\n",
    "nltk.download('omw-1.4')\n",
    "nltk.download('punkt')\n",
    "from nltk.corpus import stopwords\n",
    "from nltk.stem import WordNetLemmatizer\n",
    "\n",
    "import pymorphy2\n",
    "\n",
    "from sklearn.decomposition import TruncatedSVD\n",
    "import matplotlib.patches as mpatches\n",
    "\n",
    "from sklearn.model_selection import train_test_split\n",
    "from sklearn.feature_extraction.text import TfidfVectorizer\n",
    "from sklearn.metrics import classification_report, confusion_matrix, roc_auc_score\n",
    "\n",
    "from lightgbm import LGBMClassifier\n",
    "from sklearn.linear_model import LogisticRegression\n",
    "from sklearn.ensemble import RandomForestClassifier\n",
    "\n",
    "import tika\n",
    "from tika import parser\n",
    "import re\n",
    "import os\n",
    "from sklearn.preprocessing import LabelEncoder"
   ]
  },
  {
   "cell_type": "code",
   "execution_count": 29,
   "metadata": {
    "id": "W8236OeTxm5D"
   },
   "outputs": [],
   "source": [
    "classes = pd.read_json('classes.json', orient='index') #перевод в пандас фрейм"
   ]
  },
  {
   "cell_type": "code",
   "execution_count": 30,
   "metadata": {
    "colab": {
     "base_uri": "https://localhost:8080/",
     "height": 112
    },
    "id": "FHca_xCFzC-V",
    "outputId": "e34f4a40-f26a-42b6-c14e-037fbf8be77d"
   },
   "outputs": [
    {
     "data": {
      "text/html": [
       "<div>\n",
       "<style scoped>\n",
       "    .dataframe tbody tr th:only-of-type {\n",
       "        vertical-align: middle;\n",
       "    }\n",
       "\n",
       "    .dataframe tbody tr th {\n",
       "        vertical-align: top;\n",
       "    }\n",
       "\n",
       "    .dataframe thead th {\n",
       "        text-align: right;\n",
       "    }\n",
       "</style>\n",
       "<table border=\"1\" class=\"dataframe\">\n",
       "  <thead>\n",
       "    <tr style=\"text-align: right;\">\n",
       "      <th></th>\n",
       "      <th>0</th>\n",
       "    </tr>\n",
       "  </thead>\n",
       "  <tbody>\n",
       "    <tr>\n",
       "      <th>5908cb5da047d6c9e6dfea6337fb3189.doc</th>\n",
       "      <td>Договоры для акселератора/Договоры поставки</td>\n",
       "    </tr>\n",
       "    <tr>\n",
       "      <th>14711e4fc8e56f0c75856c8837ec04cb.doc</th>\n",
       "      <td>Договоры для акселератора/Договоры поставки</td>\n",
       "    </tr>\n",
       "  </tbody>\n",
       "</table>\n",
       "</div>"
      ],
      "text/plain": [
       "                                                                                0\n",
       "5908cb5da047d6c9e6dfea6337fb3189.doc  Договоры для акселератора/Договоры поставки\n",
       "14711e4fc8e56f0c75856c8837ec04cb.doc  Договоры для акселератора/Договоры поставки"
      ]
     },
     "execution_count": 30,
     "metadata": {},
     "output_type": "execute_result"
    }
   ],
   "source": [
    "classes.head(2)"
   ]
  },
  {
   "cell_type": "code",
   "execution_count": 31,
   "metadata": {
    "id": "y3q4ynCjyoVH"
   },
   "outputs": [],
   "source": [
    "list_docs = os.listdir('docs')"
   ]
  },
  {
   "cell_type": "code",
   "execution_count": 32,
   "metadata": {
    "colab": {
     "base_uri": "https://localhost:8080/",
     "height": 49,
     "referenced_widgets": [
      "a8bc1f72afdf4cd1b574a31a751e45bf",
      "afd015497b764848bdba249347c50318",
      "9d20365c7443463c93eb10436518f9a3",
      "039ab98ea0d04cf48df0438d29fe81cf",
      "b0ea35c285a2443aaeb3efafb9392b3e",
      "dd908421c87d41a3b22a1b038691c39f",
      "7e3c13b6f9974b50952a91e0ff56ab82",
      "0248aa525df04ba3b56d4e8ee7334643",
      "a1994f2f479346a9b95417cd4f211e29",
      "33fbcacf8f29440b87f80d640c629a48",
      "50c36db808514e6188c8ac63e8124349"
     ]
    },
    "id": "18sRJgl0G9XH",
    "outputId": "5633994f-4356-4620-fb1b-58d17f2a4b8c"
   },
   "outputs": [
    {
     "data": {
      "application/vnd.jupyter.widget-view+json": {
       "model_id": "e94970285efc48f4a40225f60b0fdd68",
       "version_major": 2,
       "version_minor": 0
      },
      "text/plain": [
       "  0%|          | 0/120 [00:00<?, ?it/s]"
      ]
     },
     "metadata": {},
     "output_type": "display_data"
    }
   ],
   "source": [
    "tika.initVM()\n",
    "\n",
    "for doc in tqdm(list_docs):\n",
    "  parsed = parser.from_file('docs/' + doc)\n",
    "  # classes.loc[doc, 'metadata'] = parsed[\"metadata\"]\n",
    "  classes.loc[doc, 'content'] = parsed[\"content\"]"
   ]
  },
  {
   "cell_type": "code",
   "execution_count": 33,
   "metadata": {
    "colab": {
     "base_uri": "https://localhost:8080/"
    },
    "id": "noWkS-9-KKLG",
    "outputId": "5c2bed28-ace8-42cb-924b-e27af49d7003"
   },
   "outputs": [
    {
     "name": "stderr",
     "output_type": "stream",
     "text": [
      "2022-12-16 17:06:47.257 Loading dictionaries from C:\\Users\\isdom\\AppData\\Roaming\\Python\\Python39\\site-packages\\pymorphy2_dicts_ru\\data\n",
      "2022-12-16 17:06:47.357 format: 2.4, revision: 417127, updated: 2020-10-11T15:05:51.070345\n"
     ]
    },
    {
     "name": "stdout",
     "output_type": "stream",
     "text": [
      "Wall time: 32.9 s\n"
     ]
    },
    {
     "data": {
      "text/html": [
       "<div>\n",
       "<style scoped>\n",
       "    .dataframe tbody tr th:only-of-type {\n",
       "        vertical-align: middle;\n",
       "    }\n",
       "\n",
       "    .dataframe tbody tr th {\n",
       "        vertical-align: top;\n",
       "    }\n",
       "\n",
       "    .dataframe thead th {\n",
       "        text-align: right;\n",
       "    }\n",
       "</style>\n",
       "<table border=\"1\" class=\"dataframe\">\n",
       "  <thead>\n",
       "    <tr style=\"text-align: right;\">\n",
       "      <th></th>\n",
       "      <th>0</th>\n",
       "      <th>content</th>\n",
       "      <th>content_punct</th>\n",
       "      <th>content_punct_lemm</th>\n",
       "    </tr>\n",
       "  </thead>\n",
       "  <tbody>\n",
       "    <tr>\n",
       "      <th>5908cb5da047d6c9e6dfea6337fb3189.doc</th>\n",
       "      <td>Договоры для акселератора/Договоры поставки</td>\n",
       "      <td>\\n\\n\\n\\n\\n\\n\\n\\n\\n\\n\\n\\n\\n\\n\\n\\n\\n\\n\\n\\n\\n\\n\\n...</td>\n",
       "      <td>\\n\\n\\n\\n\\n\\n\\n\\n\\n\\n\\n\\n\\n\\n\\n\\n\\n\\n\\n\\n\\n\\n\\n...</td>\n",
       "      <td>договор поставка оборудование № 22лп10 8 догов...</td>\n",
       "    </tr>\n",
       "    <tr>\n",
       "      <th>14711e4fc8e56f0c75856c8837ec04cb.doc</th>\n",
       "      <td>Договоры для акселератора/Договоры поставки</td>\n",
       "      <td>\\n\\n\\n\\n\\n\\n\\n\\n\\n\\n\\n\\n\\n\\n\\n\\n\\n\\n\\n\\n\\n\\n\\n...</td>\n",
       "      <td>\\n\\n\\n\\n\\n\\n\\n\\n\\n\\n\\n\\n\\n\\n\\n\\n\\n\\n\\n\\n\\n\\n\\n...</td>\n",
       "      <td>договор куплипродажа № договор № дата место за...</td>\n",
       "    </tr>\n",
       "    <tr>\n",
       "      <th>7eb67b5aecf3f3190aab0a5f8ea32172.docx</th>\n",
       "      <td>Договоры для акселератора/Договоры поставки</td>\n",
       "      <td>\\n\\n\\n\\n\\n\\n\\n\\n\\n\\n\\n\\n\\n\\n\\n\\n\\n\\n\\n\\n\\n\\n\\n...</td>\n",
       "      <td>\\n\\n\\n\\n\\n\\n\\n\\n\\n\\n\\n\\n\\n\\n\\n\\n\\n\\n\\n\\n\\n\\n\\n...</td>\n",
       "      <td>типовой договор возмездный оказание услуга дог...</td>\n",
       "    </tr>\n",
       "    <tr>\n",
       "      <th>b40a9d048b199d5f4db62a6a2335f2a0.pdf</th>\n",
       "      <td>Договоры для акселератора/Договоры поставки</td>\n",
       "      <td>\\n\\n\\n\\n\\n\\n\\n\\n\\n\\n\\n\\n\\n\\n\\n\\n\\n\\n\\n\\n\\n\\n\\n...</td>\n",
       "      <td>\\n\\n\\n\\n\\n\\n\\n\\n\\n\\n\\n\\n\\n\\n\\n\\n\\n\\n\\n\\n\\n\\n\\n...</td>\n",
       "      <td>microsoft word договор поставка товаровdocx до...</td>\n",
       "    </tr>\n",
       "    <tr>\n",
       "      <th>84fec112d02288861e7af59f468131fb.docx</th>\n",
       "      <td>Договоры для акселератора/Договоры поставки</td>\n",
       "      <td>\\n\\n\\n\\n\\n\\n\\n\\n\\n\\n\\n\\n\\n\\n\\n\\n\\n\\n\\n\\n\\n\\n\\n...</td>\n",
       "      <td>\\n\\n\\n\\n\\n\\n\\n\\n\\n\\n\\n\\n\\n\\n\\n\\n\\n\\n\\n\\n\\n\\n\\n...</td>\n",
       "      <td>договор № номердокумент датадокумент названиек...</td>\n",
       "    </tr>\n",
       "    <tr>\n",
       "      <th>...</th>\n",
       "      <td>...</td>\n",
       "      <td>...</td>\n",
       "      <td>...</td>\n",
       "      <td>...</td>\n",
       "    </tr>\n",
       "    <tr>\n",
       "      <th>f57fe87f15a6dee2b17e804421be63b5.pdf</th>\n",
       "      <td>Договоры для акселератора/Договоры купли-продажи</td>\n",
       "      <td>\\n\\n\\n\\n\\n\\n\\n\\n\\n\\n\\n\\n\\n\\n\\n\\n\\n\\n\\n\\n\\n\\n\\n...</td>\n",
       "      <td>\\n\\n\\n\\n\\n\\n\\n\\n\\n\\n\\n\\n\\n\\n\\n\\n\\n\\n\\n\\n\\n\\n\\n...</td>\n",
       "      <td>страница 1 8 договор куплипродажа ……… оборудов...</td>\n",
       "    </tr>\n",
       "    <tr>\n",
       "      <th>1ea8809d696a4bd6a2076fbc6fd28c23.doc</th>\n",
       "      <td>Договоры для акселератора/Договоры купли-продажи</td>\n",
       "      <td>\\n\\n\\n\\n\\n\\n\\n\\n\\n\\n\\n\\n\\n\\n\\n\\n\\n\\n\\n\\n\\n\\n\\n...</td>\n",
       "      <td>\\n\\n\\n\\n\\n\\n\\n\\n\\n\\n\\n\\n\\n\\n\\n\\n\\n\\n\\n\\n\\n\\n\\n...</td>\n",
       "      <td>договор № договор москва «» 2020 год год рожде...</td>\n",
       "    </tr>\n",
       "    <tr>\n",
       "      <th>57962abd8dbe0ce0c7056896ee4501f1.doc</th>\n",
       "      <td>Договоры для акселератора/Договоры купли-продажи</td>\n",
       "      <td>\\n\\n\\n\\n\\n\\n\\n\\n\\n\\n\\n\\n\\n\\n\\n\\n\\n\\n\\n\\n\\n\\n\\n...</td>\n",
       "      <td>\\n\\n\\n\\n\\n\\n\\n\\n\\n\\n\\n\\n\\n\\n\\n\\n\\n\\n\\n\\n\\n\\n\\n...</td>\n",
       "      <td>договор № предварительный договор москва «» 20...</td>\n",
       "    </tr>\n",
       "    <tr>\n",
       "      <th>2c81df29db63aebf495106881a52188f.doc</th>\n",
       "      <td>Договоры для акселератора/Договоры купли-продажи</td>\n",
       "      <td>\\n\\n\\n\\n\\n\\n\\n\\n\\n\\n\\n\\n\\n\\n\\n\\n\\n\\n\\n\\n\\n\\n\\n...</td>\n",
       "      <td>\\n\\n\\n\\n\\n\\n\\n\\n\\n\\n\\n\\n\\n\\n\\n\\n\\n\\n\\n\\n\\n\\n\\n...</td>\n",
       "      <td>договор куплипродажа договор № 2004г именовать...</td>\n",
       "    </tr>\n",
       "    <tr>\n",
       "      <th>0ca2f9faecdbc67d6686a9f5b6636eba.doc</th>\n",
       "      <td>Договоры для акселератора/Договоры купли-продажи</td>\n",
       "      <td>\\n\\n\\n\\n\\n\\n\\n\\n\\n\\n\\n\\n\\n\\n\\n\\n\\n\\n\\n\\n\\n\\n\\n...</td>\n",
       "      <td>\\n\\n\\n\\n\\n\\n\\n\\n\\n\\n\\n\\n\\n\\n\\n\\n\\n\\n\\n\\n\\n\\n\\n...</td>\n",
       "      <td>образец договор куплипродажа оплата цена приоб...</td>\n",
       "    </tr>\n",
       "  </tbody>\n",
       "</table>\n",
       "<p>120 rows × 4 columns</p>\n",
       "</div>"
      ],
      "text/plain": [
       "                                                                                      0  \\\n",
       "5908cb5da047d6c9e6dfea6337fb3189.doc        Договоры для акселератора/Договоры поставки   \n",
       "14711e4fc8e56f0c75856c8837ec04cb.doc        Договоры для акселератора/Договоры поставки   \n",
       "7eb67b5aecf3f3190aab0a5f8ea32172.docx       Договоры для акселератора/Договоры поставки   \n",
       "b40a9d048b199d5f4db62a6a2335f2a0.pdf        Договоры для акселератора/Договоры поставки   \n",
       "84fec112d02288861e7af59f468131fb.docx       Договоры для акселератора/Договоры поставки   \n",
       "...                                                                                 ...   \n",
       "f57fe87f15a6dee2b17e804421be63b5.pdf   Договоры для акселератора/Договоры купли-продажи   \n",
       "1ea8809d696a4bd6a2076fbc6fd28c23.doc   Договоры для акселератора/Договоры купли-продажи   \n",
       "57962abd8dbe0ce0c7056896ee4501f1.doc   Договоры для акселератора/Договоры купли-продажи   \n",
       "2c81df29db63aebf495106881a52188f.doc   Договоры для акселератора/Договоры купли-продажи   \n",
       "0ca2f9faecdbc67d6686a9f5b6636eba.doc   Договоры для акселератора/Договоры купли-продажи   \n",
       "\n",
       "                                                                                 content  \\\n",
       "5908cb5da047d6c9e6dfea6337fb3189.doc   \\n\\n\\n\\n\\n\\n\\n\\n\\n\\n\\n\\n\\n\\n\\n\\n\\n\\n\\n\\n\\n\\n\\n...   \n",
       "14711e4fc8e56f0c75856c8837ec04cb.doc   \\n\\n\\n\\n\\n\\n\\n\\n\\n\\n\\n\\n\\n\\n\\n\\n\\n\\n\\n\\n\\n\\n\\n...   \n",
       "7eb67b5aecf3f3190aab0a5f8ea32172.docx  \\n\\n\\n\\n\\n\\n\\n\\n\\n\\n\\n\\n\\n\\n\\n\\n\\n\\n\\n\\n\\n\\n\\n...   \n",
       "b40a9d048b199d5f4db62a6a2335f2a0.pdf   \\n\\n\\n\\n\\n\\n\\n\\n\\n\\n\\n\\n\\n\\n\\n\\n\\n\\n\\n\\n\\n\\n\\n...   \n",
       "84fec112d02288861e7af59f468131fb.docx  \\n\\n\\n\\n\\n\\n\\n\\n\\n\\n\\n\\n\\n\\n\\n\\n\\n\\n\\n\\n\\n\\n\\n...   \n",
       "...                                                                                  ...   \n",
       "f57fe87f15a6dee2b17e804421be63b5.pdf   \\n\\n\\n\\n\\n\\n\\n\\n\\n\\n\\n\\n\\n\\n\\n\\n\\n\\n\\n\\n\\n\\n\\n...   \n",
       "1ea8809d696a4bd6a2076fbc6fd28c23.doc   \\n\\n\\n\\n\\n\\n\\n\\n\\n\\n\\n\\n\\n\\n\\n\\n\\n\\n\\n\\n\\n\\n\\n...   \n",
       "57962abd8dbe0ce0c7056896ee4501f1.doc   \\n\\n\\n\\n\\n\\n\\n\\n\\n\\n\\n\\n\\n\\n\\n\\n\\n\\n\\n\\n\\n\\n\\n...   \n",
       "2c81df29db63aebf495106881a52188f.doc   \\n\\n\\n\\n\\n\\n\\n\\n\\n\\n\\n\\n\\n\\n\\n\\n\\n\\n\\n\\n\\n\\n\\n...   \n",
       "0ca2f9faecdbc67d6686a9f5b6636eba.doc   \\n\\n\\n\\n\\n\\n\\n\\n\\n\\n\\n\\n\\n\\n\\n\\n\\n\\n\\n\\n\\n\\n\\n...   \n",
       "\n",
       "                                                                           content_punct  \\\n",
       "5908cb5da047d6c9e6dfea6337fb3189.doc   \\n\\n\\n\\n\\n\\n\\n\\n\\n\\n\\n\\n\\n\\n\\n\\n\\n\\n\\n\\n\\n\\n\\n...   \n",
       "14711e4fc8e56f0c75856c8837ec04cb.doc   \\n\\n\\n\\n\\n\\n\\n\\n\\n\\n\\n\\n\\n\\n\\n\\n\\n\\n\\n\\n\\n\\n\\n...   \n",
       "7eb67b5aecf3f3190aab0a5f8ea32172.docx  \\n\\n\\n\\n\\n\\n\\n\\n\\n\\n\\n\\n\\n\\n\\n\\n\\n\\n\\n\\n\\n\\n\\n...   \n",
       "b40a9d048b199d5f4db62a6a2335f2a0.pdf   \\n\\n\\n\\n\\n\\n\\n\\n\\n\\n\\n\\n\\n\\n\\n\\n\\n\\n\\n\\n\\n\\n\\n...   \n",
       "84fec112d02288861e7af59f468131fb.docx  \\n\\n\\n\\n\\n\\n\\n\\n\\n\\n\\n\\n\\n\\n\\n\\n\\n\\n\\n\\n\\n\\n\\n...   \n",
       "...                                                                                  ...   \n",
       "f57fe87f15a6dee2b17e804421be63b5.pdf   \\n\\n\\n\\n\\n\\n\\n\\n\\n\\n\\n\\n\\n\\n\\n\\n\\n\\n\\n\\n\\n\\n\\n...   \n",
       "1ea8809d696a4bd6a2076fbc6fd28c23.doc   \\n\\n\\n\\n\\n\\n\\n\\n\\n\\n\\n\\n\\n\\n\\n\\n\\n\\n\\n\\n\\n\\n\\n...   \n",
       "57962abd8dbe0ce0c7056896ee4501f1.doc   \\n\\n\\n\\n\\n\\n\\n\\n\\n\\n\\n\\n\\n\\n\\n\\n\\n\\n\\n\\n\\n\\n\\n...   \n",
       "2c81df29db63aebf495106881a52188f.doc   \\n\\n\\n\\n\\n\\n\\n\\n\\n\\n\\n\\n\\n\\n\\n\\n\\n\\n\\n\\n\\n\\n\\n...   \n",
       "0ca2f9faecdbc67d6686a9f5b6636eba.doc   \\n\\n\\n\\n\\n\\n\\n\\n\\n\\n\\n\\n\\n\\n\\n\\n\\n\\n\\n\\n\\n\\n\\n...   \n",
       "\n",
       "                                                                      content_punct_lemm  \n",
       "5908cb5da047d6c9e6dfea6337fb3189.doc   договор поставка оборудование № 22лп10 8 догов...  \n",
       "14711e4fc8e56f0c75856c8837ec04cb.doc   договор куплипродажа № договор № дата место за...  \n",
       "7eb67b5aecf3f3190aab0a5f8ea32172.docx  типовой договор возмездный оказание услуга дог...  \n",
       "b40a9d048b199d5f4db62a6a2335f2a0.pdf   microsoft word договор поставка товаровdocx до...  \n",
       "84fec112d02288861e7af59f468131fb.docx  договор № номердокумент датадокумент названиек...  \n",
       "...                                                                                  ...  \n",
       "f57fe87f15a6dee2b17e804421be63b5.pdf   страница 1 8 договор куплипродажа ……… оборудов...  \n",
       "1ea8809d696a4bd6a2076fbc6fd28c23.doc   договор № договор москва «» 2020 год год рожде...  \n",
       "57962abd8dbe0ce0c7056896ee4501f1.doc   договор № предварительный договор москва «» 20...  \n",
       "2c81df29db63aebf495106881a52188f.doc   договор куплипродажа договор № 2004г именовать...  \n",
       "0ca2f9faecdbc67d6686a9f5b6636eba.doc   образец договор куплипродажа оплата цена приоб...  \n",
       "\n",
       "[120 rows x 4 columns]"
      ]
     },
     "execution_count": 33,
     "metadata": {},
     "output_type": "execute_result"
    }
   ],
   "source": [
    "%%time\n",
    "stop_words = set(stopwords.words('russian')) # множество стоп слов\n",
    "\n",
    "morph = pymorphy2.MorphAnalyzer() # для постановки слова в начальную форму\n",
    "\n",
    "def lemmatize_words(text):\n",
    "    '''Функция для лемматизации отдельных слов.'''\n",
    "    final_text = []\n",
    "    for i in text.lower().split():\n",
    "        if i not in stop_words:\n",
    "            parse = morph.parse(i)[0]\n",
    "            if ('Abbr' not in parse.tag):\n",
    "                final_text.append(parse.normal_form)               \n",
    "    return \" \".join(final_text)\n",
    "\n",
    "def text_preprocessing(text):\n",
    "    data = text.copy()\n",
    "\n",
    "    # удаляем пунктуацию\n",
    "    data['content_punct'] = data['content'].str.translate(str.maketrans('', '', string.punctuation))\n",
    "    # Приводим к начальной форме\n",
    "    data['content_punct_lemm'] = data['content_punct'].apply(lemmatize_words)\n",
    "    \n",
    "    return data\n",
    "\n",
    "classes_prep = text_preprocessing(classes)\n",
    "classes_prep\n",
    "# test_copy = test.copy()\n",
    "# test_copy.rename(columns={'text': 'sentence'}, inplace=True)\n",
    "# test_prep = text_preprocessing(test_copy.fillna('нет текста'))"
   ]
  },
  {
   "cell_type": "code",
   "execution_count": 34,
   "metadata": {
    "id": "VDoXbW3_1aQ5"
   },
   "outputs": [
    {
     "data": {
      "text/html": [
       "<div>\n",
       "<style scoped>\n",
       "    .dataframe tbody tr th:only-of-type {\n",
       "        vertical-align: middle;\n",
       "    }\n",
       "\n",
       "    .dataframe tbody tr th {\n",
       "        vertical-align: top;\n",
       "    }\n",
       "\n",
       "    .dataframe thead th {\n",
       "        text-align: right;\n",
       "    }\n",
       "</style>\n",
       "<table border=\"1\" class=\"dataframe\">\n",
       "  <thead>\n",
       "    <tr style=\"text-align: right;\">\n",
       "      <th></th>\n",
       "      <th>0</th>\n",
       "      <th>content</th>\n",
       "      <th>content_punct</th>\n",
       "      <th>content_punct_lemm</th>\n",
       "      <th>labels</th>\n",
       "    </tr>\n",
       "  </thead>\n",
       "  <tbody>\n",
       "    <tr>\n",
       "      <th>5908cb5da047d6c9e6dfea6337fb3189.doc</th>\n",
       "      <td>Договоры для акселератора/Договоры поставки</td>\n",
       "      <td>\\n\\n\\n\\n\\n\\n\\n\\n\\n\\n\\n\\n\\n\\n\\n\\n\\n\\n\\n\\n\\n\\n\\n...</td>\n",
       "      <td>\\n\\n\\n\\n\\n\\n\\n\\n\\n\\n\\n\\n\\n\\n\\n\\n\\n\\n\\n\\n\\n\\n\\n...</td>\n",
       "      <td>договор поставка оборудование № 22лп10 8 догов...</td>\n",
       "      <td>4</td>\n",
       "    </tr>\n",
       "    <tr>\n",
       "      <th>14711e4fc8e56f0c75856c8837ec04cb.doc</th>\n",
       "      <td>Договоры для акселератора/Договоры поставки</td>\n",
       "      <td>\\n\\n\\n\\n\\n\\n\\n\\n\\n\\n\\n\\n\\n\\n\\n\\n\\n\\n\\n\\n\\n\\n\\n...</td>\n",
       "      <td>\\n\\n\\n\\n\\n\\n\\n\\n\\n\\n\\n\\n\\n\\n\\n\\n\\n\\n\\n\\n\\n\\n\\n...</td>\n",
       "      <td>договор куплипродажа № договор № дата место за...</td>\n",
       "      <td>4</td>\n",
       "    </tr>\n",
       "    <tr>\n",
       "      <th>7eb67b5aecf3f3190aab0a5f8ea32172.docx</th>\n",
       "      <td>Договоры для акселератора/Договоры поставки</td>\n",
       "      <td>\\n\\n\\n\\n\\n\\n\\n\\n\\n\\n\\n\\n\\n\\n\\n\\n\\n\\n\\n\\n\\n\\n\\n...</td>\n",
       "      <td>\\n\\n\\n\\n\\n\\n\\n\\n\\n\\n\\n\\n\\n\\n\\n\\n\\n\\n\\n\\n\\n\\n\\n...</td>\n",
       "      <td>типовой договор возмездный оказание услуга дог...</td>\n",
       "      <td>4</td>\n",
       "    </tr>\n",
       "    <tr>\n",
       "      <th>b40a9d048b199d5f4db62a6a2335f2a0.pdf</th>\n",
       "      <td>Договоры для акселератора/Договоры поставки</td>\n",
       "      <td>\\n\\n\\n\\n\\n\\n\\n\\n\\n\\n\\n\\n\\n\\n\\n\\n\\n\\n\\n\\n\\n\\n\\n...</td>\n",
       "      <td>\\n\\n\\n\\n\\n\\n\\n\\n\\n\\n\\n\\n\\n\\n\\n\\n\\n\\n\\n\\n\\n\\n\\n...</td>\n",
       "      <td>microsoft word договор поставка товаровdocx до...</td>\n",
       "      <td>4</td>\n",
       "    </tr>\n",
       "    <tr>\n",
       "      <th>84fec112d02288861e7af59f468131fb.docx</th>\n",
       "      <td>Договоры для акселератора/Договоры поставки</td>\n",
       "      <td>\\n\\n\\n\\n\\n\\n\\n\\n\\n\\n\\n\\n\\n\\n\\n\\n\\n\\n\\n\\n\\n\\n\\n...</td>\n",
       "      <td>\\n\\n\\n\\n\\n\\n\\n\\n\\n\\n\\n\\n\\n\\n\\n\\n\\n\\n\\n\\n\\n\\n\\n...</td>\n",
       "      <td>договор № номердокумент датадокумент названиек...</td>\n",
       "      <td>4</td>\n",
       "    </tr>\n",
       "    <tr>\n",
       "      <th>...</th>\n",
       "      <td>...</td>\n",
       "      <td>...</td>\n",
       "      <td>...</td>\n",
       "      <td>...</td>\n",
       "      <td>...</td>\n",
       "    </tr>\n",
       "    <tr>\n",
       "      <th>f57fe87f15a6dee2b17e804421be63b5.pdf</th>\n",
       "      <td>Договоры для акселератора/Договоры купли-продажи</td>\n",
       "      <td>\\n\\n\\n\\n\\n\\n\\n\\n\\n\\n\\n\\n\\n\\n\\n\\n\\n\\n\\n\\n\\n\\n\\n...</td>\n",
       "      <td>\\n\\n\\n\\n\\n\\n\\n\\n\\n\\n\\n\\n\\n\\n\\n\\n\\n\\n\\n\\n\\n\\n\\n...</td>\n",
       "      <td>страница 1 8 договор куплипродажа ……… оборудов...</td>\n",
       "      <td>1</td>\n",
       "    </tr>\n",
       "    <tr>\n",
       "      <th>1ea8809d696a4bd6a2076fbc6fd28c23.doc</th>\n",
       "      <td>Договоры для акселератора/Договоры купли-продажи</td>\n",
       "      <td>\\n\\n\\n\\n\\n\\n\\n\\n\\n\\n\\n\\n\\n\\n\\n\\n\\n\\n\\n\\n\\n\\n\\n...</td>\n",
       "      <td>\\n\\n\\n\\n\\n\\n\\n\\n\\n\\n\\n\\n\\n\\n\\n\\n\\n\\n\\n\\n\\n\\n\\n...</td>\n",
       "      <td>договор № договор москва «» 2020 год год рожде...</td>\n",
       "      <td>1</td>\n",
       "    </tr>\n",
       "    <tr>\n",
       "      <th>57962abd8dbe0ce0c7056896ee4501f1.doc</th>\n",
       "      <td>Договоры для акселератора/Договоры купли-продажи</td>\n",
       "      <td>\\n\\n\\n\\n\\n\\n\\n\\n\\n\\n\\n\\n\\n\\n\\n\\n\\n\\n\\n\\n\\n\\n\\n...</td>\n",
       "      <td>\\n\\n\\n\\n\\n\\n\\n\\n\\n\\n\\n\\n\\n\\n\\n\\n\\n\\n\\n\\n\\n\\n\\n...</td>\n",
       "      <td>договор № предварительный договор москва «» 20...</td>\n",
       "      <td>1</td>\n",
       "    </tr>\n",
       "    <tr>\n",
       "      <th>2c81df29db63aebf495106881a52188f.doc</th>\n",
       "      <td>Договоры для акселератора/Договоры купли-продажи</td>\n",
       "      <td>\\n\\n\\n\\n\\n\\n\\n\\n\\n\\n\\n\\n\\n\\n\\n\\n\\n\\n\\n\\n\\n\\n\\n...</td>\n",
       "      <td>\\n\\n\\n\\n\\n\\n\\n\\n\\n\\n\\n\\n\\n\\n\\n\\n\\n\\n\\n\\n\\n\\n\\n...</td>\n",
       "      <td>договор куплипродажа договор № 2004г именовать...</td>\n",
       "      <td>1</td>\n",
       "    </tr>\n",
       "    <tr>\n",
       "      <th>0ca2f9faecdbc67d6686a9f5b6636eba.doc</th>\n",
       "      <td>Договоры для акселератора/Договоры купли-продажи</td>\n",
       "      <td>\\n\\n\\n\\n\\n\\n\\n\\n\\n\\n\\n\\n\\n\\n\\n\\n\\n\\n\\n\\n\\n\\n\\n...</td>\n",
       "      <td>\\n\\n\\n\\n\\n\\n\\n\\n\\n\\n\\n\\n\\n\\n\\n\\n\\n\\n\\n\\n\\n\\n\\n...</td>\n",
       "      <td>образец договор куплипродажа оплата цена приоб...</td>\n",
       "      <td>1</td>\n",
       "    </tr>\n",
       "  </tbody>\n",
       "</table>\n",
       "<p>120 rows × 5 columns</p>\n",
       "</div>"
      ],
      "text/plain": [
       "                                                                                      0  \\\n",
       "5908cb5da047d6c9e6dfea6337fb3189.doc        Договоры для акселератора/Договоры поставки   \n",
       "14711e4fc8e56f0c75856c8837ec04cb.doc        Договоры для акселератора/Договоры поставки   \n",
       "7eb67b5aecf3f3190aab0a5f8ea32172.docx       Договоры для акселератора/Договоры поставки   \n",
       "b40a9d048b199d5f4db62a6a2335f2a0.pdf        Договоры для акселератора/Договоры поставки   \n",
       "84fec112d02288861e7af59f468131fb.docx       Договоры для акселератора/Договоры поставки   \n",
       "...                                                                                 ...   \n",
       "f57fe87f15a6dee2b17e804421be63b5.pdf   Договоры для акселератора/Договоры купли-продажи   \n",
       "1ea8809d696a4bd6a2076fbc6fd28c23.doc   Договоры для акселератора/Договоры купли-продажи   \n",
       "57962abd8dbe0ce0c7056896ee4501f1.doc   Договоры для акселератора/Договоры купли-продажи   \n",
       "2c81df29db63aebf495106881a52188f.doc   Договоры для акселератора/Договоры купли-продажи   \n",
       "0ca2f9faecdbc67d6686a9f5b6636eba.doc   Договоры для акселератора/Договоры купли-продажи   \n",
       "\n",
       "                                                                                 content  \\\n",
       "5908cb5da047d6c9e6dfea6337fb3189.doc   \\n\\n\\n\\n\\n\\n\\n\\n\\n\\n\\n\\n\\n\\n\\n\\n\\n\\n\\n\\n\\n\\n\\n...   \n",
       "14711e4fc8e56f0c75856c8837ec04cb.doc   \\n\\n\\n\\n\\n\\n\\n\\n\\n\\n\\n\\n\\n\\n\\n\\n\\n\\n\\n\\n\\n\\n\\n...   \n",
       "7eb67b5aecf3f3190aab0a5f8ea32172.docx  \\n\\n\\n\\n\\n\\n\\n\\n\\n\\n\\n\\n\\n\\n\\n\\n\\n\\n\\n\\n\\n\\n\\n...   \n",
       "b40a9d048b199d5f4db62a6a2335f2a0.pdf   \\n\\n\\n\\n\\n\\n\\n\\n\\n\\n\\n\\n\\n\\n\\n\\n\\n\\n\\n\\n\\n\\n\\n...   \n",
       "84fec112d02288861e7af59f468131fb.docx  \\n\\n\\n\\n\\n\\n\\n\\n\\n\\n\\n\\n\\n\\n\\n\\n\\n\\n\\n\\n\\n\\n\\n...   \n",
       "...                                                                                  ...   \n",
       "f57fe87f15a6dee2b17e804421be63b5.pdf   \\n\\n\\n\\n\\n\\n\\n\\n\\n\\n\\n\\n\\n\\n\\n\\n\\n\\n\\n\\n\\n\\n\\n...   \n",
       "1ea8809d696a4bd6a2076fbc6fd28c23.doc   \\n\\n\\n\\n\\n\\n\\n\\n\\n\\n\\n\\n\\n\\n\\n\\n\\n\\n\\n\\n\\n\\n\\n...   \n",
       "57962abd8dbe0ce0c7056896ee4501f1.doc   \\n\\n\\n\\n\\n\\n\\n\\n\\n\\n\\n\\n\\n\\n\\n\\n\\n\\n\\n\\n\\n\\n\\n...   \n",
       "2c81df29db63aebf495106881a52188f.doc   \\n\\n\\n\\n\\n\\n\\n\\n\\n\\n\\n\\n\\n\\n\\n\\n\\n\\n\\n\\n\\n\\n\\n...   \n",
       "0ca2f9faecdbc67d6686a9f5b6636eba.doc   \\n\\n\\n\\n\\n\\n\\n\\n\\n\\n\\n\\n\\n\\n\\n\\n\\n\\n\\n\\n\\n\\n\\n...   \n",
       "\n",
       "                                                                           content_punct  \\\n",
       "5908cb5da047d6c9e6dfea6337fb3189.doc   \\n\\n\\n\\n\\n\\n\\n\\n\\n\\n\\n\\n\\n\\n\\n\\n\\n\\n\\n\\n\\n\\n\\n...   \n",
       "14711e4fc8e56f0c75856c8837ec04cb.doc   \\n\\n\\n\\n\\n\\n\\n\\n\\n\\n\\n\\n\\n\\n\\n\\n\\n\\n\\n\\n\\n\\n\\n...   \n",
       "7eb67b5aecf3f3190aab0a5f8ea32172.docx  \\n\\n\\n\\n\\n\\n\\n\\n\\n\\n\\n\\n\\n\\n\\n\\n\\n\\n\\n\\n\\n\\n\\n...   \n",
       "b40a9d048b199d5f4db62a6a2335f2a0.pdf   \\n\\n\\n\\n\\n\\n\\n\\n\\n\\n\\n\\n\\n\\n\\n\\n\\n\\n\\n\\n\\n\\n\\n...   \n",
       "84fec112d02288861e7af59f468131fb.docx  \\n\\n\\n\\n\\n\\n\\n\\n\\n\\n\\n\\n\\n\\n\\n\\n\\n\\n\\n\\n\\n\\n\\n...   \n",
       "...                                                                                  ...   \n",
       "f57fe87f15a6dee2b17e804421be63b5.pdf   \\n\\n\\n\\n\\n\\n\\n\\n\\n\\n\\n\\n\\n\\n\\n\\n\\n\\n\\n\\n\\n\\n\\n...   \n",
       "1ea8809d696a4bd6a2076fbc6fd28c23.doc   \\n\\n\\n\\n\\n\\n\\n\\n\\n\\n\\n\\n\\n\\n\\n\\n\\n\\n\\n\\n\\n\\n\\n...   \n",
       "57962abd8dbe0ce0c7056896ee4501f1.doc   \\n\\n\\n\\n\\n\\n\\n\\n\\n\\n\\n\\n\\n\\n\\n\\n\\n\\n\\n\\n\\n\\n\\n...   \n",
       "2c81df29db63aebf495106881a52188f.doc   \\n\\n\\n\\n\\n\\n\\n\\n\\n\\n\\n\\n\\n\\n\\n\\n\\n\\n\\n\\n\\n\\n\\n...   \n",
       "0ca2f9faecdbc67d6686a9f5b6636eba.doc   \\n\\n\\n\\n\\n\\n\\n\\n\\n\\n\\n\\n\\n\\n\\n\\n\\n\\n\\n\\n\\n\\n\\n...   \n",
       "\n",
       "                                                                      content_punct_lemm  \\\n",
       "5908cb5da047d6c9e6dfea6337fb3189.doc   договор поставка оборудование № 22лп10 8 догов...   \n",
       "14711e4fc8e56f0c75856c8837ec04cb.doc   договор куплипродажа № договор № дата место за...   \n",
       "7eb67b5aecf3f3190aab0a5f8ea32172.docx  типовой договор возмездный оказание услуга дог...   \n",
       "b40a9d048b199d5f4db62a6a2335f2a0.pdf   microsoft word договор поставка товаровdocx до...   \n",
       "84fec112d02288861e7af59f468131fb.docx  договор № номердокумент датадокумент названиек...   \n",
       "...                                                                                  ...   \n",
       "f57fe87f15a6dee2b17e804421be63b5.pdf   страница 1 8 договор куплипродажа ……… оборудов...   \n",
       "1ea8809d696a4bd6a2076fbc6fd28c23.doc   договор № договор москва «» 2020 год год рожде...   \n",
       "57962abd8dbe0ce0c7056896ee4501f1.doc   договор № предварительный договор москва «» 20...   \n",
       "2c81df29db63aebf495106881a52188f.doc   договор куплипродажа договор № 2004г именовать...   \n",
       "0ca2f9faecdbc67d6686a9f5b6636eba.doc   образец договор куплипродажа оплата цена приоб...   \n",
       "\n",
       "                                       labels  \n",
       "5908cb5da047d6c9e6dfea6337fb3189.doc        4  \n",
       "14711e4fc8e56f0c75856c8837ec04cb.doc        4  \n",
       "7eb67b5aecf3f3190aab0a5f8ea32172.docx       4  \n",
       "b40a9d048b199d5f4db62a6a2335f2a0.pdf        4  \n",
       "84fec112d02288861e7af59f468131fb.docx       4  \n",
       "...                                       ...  \n",
       "f57fe87f15a6dee2b17e804421be63b5.pdf        1  \n",
       "1ea8809d696a4bd6a2076fbc6fd28c23.doc        1  \n",
       "57962abd8dbe0ce0c7056896ee4501f1.doc        1  \n",
       "2c81df29db63aebf495106881a52188f.doc        1  \n",
       "0ca2f9faecdbc67d6686a9f5b6636eba.doc        1  \n",
       "\n",
       "[120 rows x 5 columns]"
      ]
     },
     "execution_count": 34,
     "metadata": {},
     "output_type": "execute_result"
    }
   ],
   "source": [
    "le = LabelEncoder()\n",
    "classes_prep['labels'] = le.fit_transform(classes_prep[0])\n",
    "classes_prep"
   ]
  },
  {
   "cell_type": "code",
   "execution_count": 9,
   "metadata": {
    "colab": {
     "base_uri": "https://localhost:8080/"
    },
    "id": "lHmwU9Z-4yNk",
    "outputId": "d52aecf9-82f0-43af-f1fc-d0efb1cc4b00"
   },
   "outputs": [
    {
     "data": {
      "text/plain": [
       "Договоры для акселератора/Договоры оказания услуг    32\n",
       "Договоры для акселератора/Договоры аренды            23\n",
       "Договоры для акселератора/Договоры купли-продажи     23\n",
       "Договоры для акселератора/Договоры поставки          21\n",
       "Договоры для акселератора/Договоры подряда           21\n",
       "Name: 0, dtype: int64"
      ]
     },
     "execution_count": 9,
     "metadata": {},
     "output_type": "execute_result"
    }
   ],
   "source": [
    "classes_prep[0].value_counts()"
   ]
  },
  {
   "cell_type": "code",
   "execution_count": 10,
   "metadata": {
    "id": "J8kp2C5f2qmp"
   },
   "outputs": [],
   "source": [
    "def plot_LSA(test_data, test_labels):\n",
    "    '''\n",
    "    Функция для уменьшения размерности и визуализации векторного представления текстов по классам в проекции на плоскость\n",
    "    '''\n",
    "    lsa = TruncatedSVD(n_components=2)\n",
    "    lsa.fit(test_data)\n",
    "    lsa_scores = lsa.transform(test_data)\n",
    "    colors = ['orange','blue','blue']\n",
    "    plt.scatter(lsa_scores[:,0], lsa_scores[:,1], s=8, alpha=0.8, c=test_labels, cmap=matplotlib.colors.ListedColormap(colors))\n",
    "    red_patch = mpatches.Patch(color='orange', label='0')\n",
    "    green_patch = mpatches.Patch(color='blue', label='1')\n",
    "    plt.legend(handles=[red_patch, green_patch], prop={'size': 12})\n",
    "    plt.title('Визуализация векторного представления текстов в проекции на плоскость', fontsize=14)\n",
    "\n",
    "def plot_feature_importance(importance, names, model_name, numb_of_features=10):\n",
    "    '''\n",
    "    Для построения важности признаков\n",
    "    '''\n",
    "    # DataFrame из важности признаков модели с именами столбцов\n",
    "    feature_importance = np.array(importance)\n",
    "    feature_names = np.array(names)\n",
    "    data={'feature_names':feature_names,'feature_importance':feature_importance}\n",
    "    fi_df = pd.DataFrame(data)\n",
    "\n",
    "    # Сортируем по убыванию\n",
    "    fi_df_sort = fi_df.sort_values(by=['feature_importance'], ascending=False)\n",
    "    \n",
    "    # Строим график\n",
    "    if model_name == 'LogisticRegression':\n",
    "        fig,ax = plt.subplots(2,1, figsize=(10,16))\n",
    "        sns.barplot(x='feature_importance', y='feature_names', data=fi_df_sort[:numb_of_features], ax=ax[0])\n",
    "        sns.barplot(x='feature_importance', y='feature_names', data=fi_df_sort[-numb_of_features:],ax=ax[1])\n",
    "    else:\n",
    "        fig,ax = plt.subplots(1,1, figsize=(10,8))\n",
    "        sns.barplot(x='feature_importance', y='feature_names', data=fi_df_sort[:numb_of_features])\n",
    "        \n",
    "    plt.title(model_name + ' FEATURE IMPORTANCE')\n",
    "    plt.xlabel('FEATURE IMPORTANCE')\n",
    "    plt.ylabel('FEATURE NAMES')\n",
    "    plt.show()\n",
    "    \n",
    "\n",
    "def learning(X_train, X_test, y_train, y_test, classifier, name_of_classifier, plot_lsa=False,\n",
    "             ngram_range_user=(1,1), numb_of_features_user=10):\n",
    "    '''\n",
    "    Обучение модели. Возвращаем TfidfVectorizer для теста и обученный классификатор\n",
    "    '''\n",
    "    \n",
    "    tf=TfidfVectorizer(ngram_range=ngram_range_user) #нграм последовательности слов 1-1 только отдельные слова столбец в пандасе с тексстами\n",
    "    X_train_tf = tf.fit_transform(X_train)\n",
    "    X_test_tf = tf.transform(X_test)\n",
    "    if plot_lsa == True:\n",
    "        fig = plt.figure(figsize=(10, 8)) \n",
    "        plot_LSA(X_train_tf, y_train)\n",
    "        plt.show()\n",
    "    \n",
    "    classifier.fit(X_train_tf, y_train)\n",
    "    classifier_pred = classifier.predict(X_test_tf)\n",
    "    classifier_pred_proba = classifier.predict_proba(X_test_tf)\n",
    "    \n",
    "    # print('{} confusion_matrix: \\n'.format(name_of_classifier), confusion_matrix(y_test, classifier_pred))\n",
    "    print('{} classification_report: \\n'.format(name_of_classifier), classification_report(y_test, classifier_pred))\n",
    "    # print('{} roc_auc: '.format(name_of_classifier), roc_auc_score(y_test, classifier_pred_proba, multi_class=\"ovr\"))\n",
    "    \n",
    "    if name_of_classifier == 'LogisticRegression':\n",
    "        plot_feature_importance(classifier.coef_[0],\n",
    "                                list(tf.vocabulary_.keys()), name_of_classifier, numb_of_features=numb_of_features_user)\n",
    "    else:\n",
    "        plot_feature_importance(classifier.feature_importances_,\n",
    "                                list(tf.vocabulary_.keys()), name_of_classifier, numb_of_features=numb_of_features_user)\n",
    "        \n",
    "    return tf, classifier"
   ]
  },
  {
   "cell_type": "code",
   "execution_count": 40,
   "metadata": {
    "id": "7sa2_tFf27V8"
   },
   "outputs": [
    {
     "data": {
      "text/plain": [
       "6b18c046e7ccfdaf9123c11980f56c35.doc     договор именовать дальнейший заказчик один сто...\n",
       "084edc7dfc3db04e3a3c55c102f47bcb.doc     договор аренда земельный участок 2 5 договор №...\n",
       "7eb67b5aecf3f3190aab0a5f8ea32172.docx    типовой договор возмездный оказание услуга дог...\n",
       "f3734851311f2a7ac6c66ad7ccbe1d2c.doc     httpwwwknkrasru договор «» 201г наименование о...\n",
       "453b2cb6e4ba7b8d1a8382773880d313.doc     договор № москва «» 2020 заказчик «компания за...\n",
       "                                                               ...                        \n",
       "a7966d0674c94a6e752e3a5832edb2a9.doc     договор строительный подряд договор «» именова...\n",
       "2b408919fd9833dc3f6892aad753f21f.docx    договор подряд № номердокумент датадокумент на...\n",
       "a8a9861b63d26f13f0f10a075158b6da.doc     договор финансовый аренда лизинг № 36л2006 дог...\n",
       "5262e9c377c3ab1f6b8141762cca69ad.doc     договор куплипродажа договор « » 200г » именов...\n",
       "18d573815c15b4e798bdfbfb52fb2f43.docx    образец договор проведение банкет заключать фи...\n",
       "Name: content_punct_lemm, Length: 96, dtype: object"
      ]
     },
     "execution_count": 40,
     "metadata": {},
     "output_type": "execute_result"
    }
   ],
   "source": [
    "# Делим на обучающую и тестовую выборку\n",
    "X_train, X_test, y_train, y_test = train_test_split(classes_prep['content_punct_lemm'],\n",
    "                                                    classes_prep['labels'],\n",
    "                                                    test_size=0.2, random_state=42,\n",
    "                                                    stratify=classes_prep['labels'])\n",
    "X_train"
   ]
  },
  {
   "cell_type": "code",
   "execution_count": 21,
   "metadata": {
    "colab": {
     "base_uri": "https://localhost:8080/",
     "height": 1000
    },
    "id": "ETWUmYiq3JLU",
    "outputId": "b40ca5f2-c665-445e-e8b7-2c3fab6af48b"
   },
   "outputs": [
    {
     "data": {
      "image/png": "[encoded data removed]",
      "text/plain": [
       "<Figure size 1000x800 with 1 Axes>"
      ]
     },
     "metadata": {},
     "output_type": "display_data"
    },
    {
     "name": "stdout",
     "output_type": "stream",
     "text": [
      "LogisticRegression classification_report: \n",
      "               precision    recall  f1-score   support\n",
      "\n",
      "           0       1.00      0.80      0.89         5\n",
      "           1       1.00      1.00      1.00         5\n",
      "           2       0.86      1.00      0.92         6\n",
      "           3       1.00      1.00      1.00         4\n",
      "           4       1.00      1.00      1.00         4\n",
      "\n",
      "    accuracy                           0.96        24\n",
      "   macro avg       0.97      0.96      0.96        24\n",
      "weighted avg       0.96      0.96      0.96        24\n",
      "\n"
     ]
    },
    {
     "data": {
      "image/png": "[encoded data removed]",
      "text/plain": [
       "<Figure size 1000x1600 with 2 Axes>"
      ]
     },
     "metadata": {},
     "output_type": "display_data"
    },
    {
     "name": "stdout",
     "output_type": "stream",
     "text": [
      "Wall time: 4.28 s\n"
     ]
    }
   ],
   "source": [
    "%%time\n",
    "LR = LogisticRegression(random_state=42)\n",
    "tf, LR_trained_classifier = learning(X_train, X_test, y_train, y_test, LR,\n",
    "                                     'LogisticRegression', ngram_range_user=(1,2), plot_lsa=True)"
   ]
  },
  {
   "cell_type": "code",
   "execution_count": null,
   "metadata": {
    "id": "w0_ZgBRH3Uqq"
   },
   "outputs": [],
   "source": []
  },
  {
   "cell_type": "code",
   "execution_count": null,
   "metadata": {},
   "outputs": [],
   "source": [
    "stop_words = set(stopwords.words('russian')) # множество стоп слов\n",
    "\n",
    "morph = pymorphy2.MorphAnalyzer() # для постановки слова в начальную форму\n",
    "\n",
    "def lemmatize_words(text):\n",
    "    '''Функция для лемматизации отдельных слов.'''\n",
    "    final_text = []\n",
    "    for i in text.lower().split():\n",
    "        if i not in stop_words:\n",
    "            parse = morph.parse(i)[0]\n",
    "            if ('Abbr' not in parse.tag):\n",
    "                final_text.append(parse.normal_form)               \n",
    "    return \" \".join(final_text)\n",
    "\n",
    "def text_preprocessing(text):\n",
    "    data = text.copy()\n",
    "\n",
    "    # удаляем пунктуацию\n",
    "    data['content_punct'] = data['content'].str.translate(str.maketrans('', '', string.punctuation))\n",
    "    # Приводим к начальной форме\n",
    "    data['content_punct_lemm'] = data['content_punct'].apply(lemmatize_words)\n",
    "    \n",
    "    return data\n",
    "\n",
    "classes_prep = text_preprocessing(classes)\n"
   ]
  },
  {
   "cell_type": "code",
   "execution_count": null,
   "metadata": {},
   "outputs": [],
   "source": []
  },
  {
   "cell_type": "code",
   "execution_count": 54,
   "metadata": {},
   "outputs": [
    {
     "data": {
      "text/plain": [
       "['LR_trained_classifier.pkl']"
      ]
     },
     "execution_count": 54,
     "metadata": {},
     "output_type": "execute_result"
    }
   ],
   "source": [
    "import joblib\n",
    "joblib.dump(tf, 'tf.pkl') \n",
    "joblib.dump(LR_trained_classifier, 'LR_trained_classifier.pkl') \n",
    "\n",
    "#classifier2 = joblib.load('classifier.pkl')"
   ]
  },
  {
   "cell_type": "code",
   "execution_count": 57,
   "metadata": {},
   "outputs": [],
   "source": [
    "cl = classes[0].unique()"
   ]
  },
  {
   "cell_type": "code",
   "execution_count": 58,
   "metadata": {},
   "outputs": [
    {
     "data": {
      "text/plain": [
       "array(['Договоры для акселератора/Договоры поставки',\n",
       "       'Договоры для акселератора/Договоры оказания услуг',\n",
       "       'Договоры для акселератора/Договоры подряда',\n",
       "       'Договоры для акселератора/Договоры аренды',\n",
       "       'Договоры для акселератора/Договоры купли-продажи'], dtype=object)"
      ]
     },
     "execution_count": 58,
     "metadata": {},
     "output_type": "execute_result"
    }
   ],
   "source": [
    "cl"
   ]
  },
  {
   "cell_type": "code",
   "execution_count": null,
   "metadata": {},
   "outputs": [],
   "source": []
  },
  {
   "cell_type": "code",
   "execution_count": null,
   "metadata": {},
   "outputs": [],
   "source": []
  }
 ],
 "metadata": {
  "colab": {
   "provenance": []
  },
  "kernelspec": {
   "display_name": "Python 3 (ipykernel)",
   "language": "python",
   "name": "python3"
  },
  "language_info": {
   "codemirror_mode": {
    "name": "ipython",
    "version": 3
   },
   "file_extension": ".py",
   "mimetype": "text/x-python",
   "name": "python",
   "nbconvert_exporter": "python",
   "pygments_lexer": "ipython3",
   "version": "3.9.13"
  },
  "widgets": {
   "application/vnd.jupyter.widget-state+json": {
    "0248aa525df04ba3b56d4e8ee7334643": {
     "model_module": "@jupyter-widgets/base",
     "model_module_version": "1.2.0",
     "model_name": "LayoutModel",
     "state": {
      "_model_module": "@jupyter-widgets/base",
      "_model_module_version": "1.2.0",
      "_model_name": "LayoutModel",
      "_view_count": null,
      "_view_module": "@jupyter-widgets/base",
      "_view_module_version": "1.2.0",
      "_view_name": "LayoutView",
      "align_content": null,
      "align_items": null,
      "align_self": null,
      "border": null,
      "bottom": null,
      "display": null,
      "flex": null,
      "flex_flow": null,
      "grid_area": null,
      "grid_auto_columns": null,
      "grid_auto_flow": null,
      "grid_auto_rows": null,
      "grid_column": null,
      "grid_gap": null,
      "grid_row": null,
      "grid_template_areas": null,
      "grid_template_columns": null,
      "grid_template_rows": null,
      "height": null,
      "justify_content": null,
      "justify_items": null,
      "left": null,
      "margin": null,
      "max_height": null,
      "max_width": null,
      "min_height": null,
      "min_width": null,
      "object_fit": null,
      "object_position": null,
      "order": null,
      "overflow": null,
      "overflow_x": null,
      "overflow_y": null,
      "padding": null,
      "right": null,
      "top": null,
      "visibility": null,
      "width": null
     }
    },
    "039ab98ea0d04cf48df0438d29fe81cf": {
     "model_module": "@jupyter-widgets/controls",
     "model_module_version": "1.5.0",
     "model_name": "HTMLModel",
     "state": {
      "_dom_classes": [],
      "_model_module": "@jupyter-widgets/controls",
      "_model_module_version": "1.5.0",
      "_model_name": "HTMLModel",
      "_view_count": null,
      "_view_module": "@jupyter-widgets/controls",
      "_view_module_version": "1.5.0",
      "_view_name": "HTMLView",
      "description": "",
      "description_tooltip": null,
      "layout": "IPY_MODEL_33fbcacf8f29440b87f80d640c629a48",
      "placeholder": "​",
      "style": "IPY_MODEL_50c36db808514e6188c8ac63e8124349",
      "value": " 120/120 [00:10&lt;00:00, 14.46it/s]"
     }
    },
    "33fbcacf8f29440b87f80d640c629a48": {
     "model_module": "@jupyter-widgets/base",
     "model_module_version": "1.2.0",
     "model_name": "LayoutModel",
     "state": {
      "_model_module": "@jupyter-widgets/base",
      "_model_module_version": "1.2.0",
      "_model_name": "LayoutModel",
      "_view_count": null,
      "_view_module": "@jupyter-widgets/base",
      "_view_module_version": "1.2.0",
      "_view_name": "LayoutView",
      "align_content": null,
      "align_items": null,
      "align_self": null,
      "border": null,
      "bottom": null,
      "display": null,
      "flex": null,
      "flex_flow": null,
      "grid_area": null,
      "grid_auto_columns": null,
      "grid_auto_flow": null,
      "grid_auto_rows": null,
      "grid_column": null,
      "grid_gap": null,
      "grid_row": null,
      "grid_template_areas": null,
      "grid_template_columns": null,
      "grid_template_rows": null,
      "height": null,
      "justify_content": null,
      "justify_items": null,
      "left": null,
      "margin": null,
      "max_height": null,
      "max_width": null,
      "min_height": null,
      "min_width": null,
      "object_fit": null,
      "object_position": null,
      "order": null,
      "overflow": null,
      "overflow_x": null,
      "overflow_y": null,
      "padding": null,
      "right": null,
      "top": null,
      "visibility": null,
      "width": null
     }
    },
    "50c36db808514e6188c8ac63e8124349": {
     "model_module": "@jupyter-widgets/controls",
     "model_module_version": "1.5.0",
     "model_name": "DescriptionStyleModel",
     "state": {
      "_model_module": "@jupyter-widgets/controls",
      "_model_module_version": "1.5.0",
      "_model_name": "DescriptionStyleModel",
      "_view_count": null,
      "_view_module": "@jupyter-widgets/base",
      "_view_module_version": "1.2.0",
      "_view_name": "StyleView",
      "description_width": ""
     }
    },
    "7e3c13b6f9974b50952a91e0ff56ab82": {
     "model_module": "@jupyter-widgets/controls",
     "model_module_version": "1.5.0",
     "model_name": "DescriptionStyleModel",
     "state": {
      "_model_module": "@jupyter-widgets/controls",
      "_model_module_version": "1.5.0",
      "_model_name": "DescriptionStyleModel",
      "_view_count": null,
      "_view_module": "@jupyter-widgets/base",
      "_view_module_version": "1.2.0",
      "_view_name": "StyleView",
      "description_width": ""
     }
    },
    "9d20365c7443463c93eb10436518f9a3": {
     "model_module": "@jupyter-widgets/controls",
     "model_module_version": "1.5.0",
     "model_name": "FloatProgressModel",
     "state": {
      "_dom_classes": [],
      "_model_module": "@jupyter-widgets/controls",
      "_model_module_version": "1.5.0",
      "_model_name": "FloatProgressModel",
      "_view_count": null,
      "_view_module": "@jupyter-widgets/controls",
      "_view_module_version": "1.5.0",
      "_view_name": "ProgressView",
      "bar_style": "success",
      "description": "",
      "description_tooltip": null,
      "layout": "IPY_MODEL_0248aa525df04ba3b56d4e8ee7334643",
      "max": 120,
      "min": 0,
      "orientation": "horizontal",
      "style": "IPY_MODEL_a1994f2f479346a9b95417cd4f211e29",
      "value": 120
     }
    },
    "a1994f2f479346a9b95417cd4f211e29": {
     "model_module": "@jupyter-widgets/controls",
     "model_module_version": "1.5.0",
     "model_name": "ProgressStyleModel",
     "state": {
      "_model_module": "@jupyter-widgets/controls",
      "_model_module_version": "1.5.0",
      "_model_name": "ProgressStyleModel",
      "_view_count": null,
      "_view_module": "@jupyter-widgets/base",
      "_view_module_version": "1.2.0",
      "_view_name": "StyleView",
      "bar_color": null,
      "description_width": ""
     }
    },
    "a8bc1f72afdf4cd1b574a31a751e45bf": {
     "model_module": "@jupyter-widgets/controls",
     "model_module_version": "1.5.0",
     "model_name": "HBoxModel",
     "state": {
      "_dom_classes": [],
      "_model_module": "@jupyter-widgets/controls",
      "_model_module_version": "1.5.0",
      "_model_name": "HBoxModel",
      "_view_count": null,
      "_view_module": "@jupyter-widgets/controls",
      "_view_module_version": "1.5.0",
      "_view_name": "HBoxView",
      "box_style": "",
      "children": [
       "IPY_MODEL_afd015497b764848bdba249347c50318",
       "IPY_MODEL_9d20365c7443463c93eb10436518f9a3",
       "IPY_MODEL_039ab98ea0d04cf48df0438d29fe81cf"
      ],
      "layout": "IPY_MODEL_b0ea35c285a2443aaeb3efafb9392b3e"
     }
    },
    "afd015497b764848bdba249347c50318": {
     "model_module": "@jupyter-widgets/controls",
     "model_module_version": "1.5.0",
     "model_name": "HTMLModel",
     "state": {
      "_dom_classes": [],
      "_model_module": "@jupyter-widgets/controls",
      "_model_module_version": "1.5.0",
      "_model_name": "HTMLModel",
      "_view_count": null,
      "_view_module": "@jupyter-widgets/controls",
      "_view_module_version": "1.5.0",
      "_view_name": "HTMLView",
      "description": "",
      "description_tooltip": null,
      "layout": "IPY_MODEL_dd908421c87d41a3b22a1b038691c39f",
      "placeholder": "​",
      "style": "IPY_MODEL_7e3c13b6f9974b50952a91e0ff56ab82",
      "value": "100%"
     }
    },
    "b0ea35c285a2443aaeb3efafb9392b3e": {
     "model_module": "@jupyter-widgets/base",
     "model_module_version": "1.2.0",
     "model_name": "LayoutModel",
     "state": {
      "_model_module": "@jupyter-widgets/base",
      "_model_module_version": "1.2.0",
      "_model_name": "LayoutModel",
      "_view_count": null,
      "_view_module": "@jupyter-widgets/base",
      "_view_module_version": "1.2.0",
      "_view_name": "LayoutView",
      "align_content": null,
      "align_items": null,
      "align_self": null,
      "border": null,
      "bottom": null,
      "display": null,
      "flex": null,
      "flex_flow": null,
      "grid_area": null,
      "grid_auto_columns": null,
      "grid_auto_flow": null,
      "grid_auto_rows": null,
      "grid_column": null,
      "grid_gap": null,
      "grid_row": null,
      "grid_template_areas": null,
      "grid_template_columns": null,
      "grid_template_rows": null,
      "height": null,
      "justify_content": null,
      "justify_items": null,
      "left": null,
      "margin": null,
      "max_height": null,
      "max_width": null,
      "min_height": null,
      "min_width": null,
      "object_fit": null,
      "object_position": null,
      "order": null,
      "overflow": null,
      "overflow_x": null,
      "overflow_y": null,
      "padding": null,
      "right": null,
      "top": null,
      "visibility": null,
      "width": null
     }
    },
    "dd908421c87d41a3b22a1b038691c39f": {
     "model_module": "@jupyter-widgets/base",
     "model_module_version": "1.2.0",
     "model_name": "LayoutModel",
     "state": {
      "_model_module": "@jupyter-widgets/base",
      "_model_module_version": "1.2.0",
      "_model_name": "LayoutModel",
      "_view_count": null,
      "_view_module": "@jupyter-widgets/base",
      "_view_module_version": "1.2.0",
      "_view_name": "LayoutView",
      "align_content": null,
      "align_items": null,
      "align_self": null,
      "border": null,
      "bottom": null,
      "display": null,
      "flex": null,
      "flex_flow": null,
      "grid_area": null,
      "grid_auto_columns": null,
      "grid_auto_flow": null,
      "grid_auto_rows": null,
      "grid_column": null,
      "grid_gap": null,
      "grid_row": null,
      "grid_template_areas": null,
      "grid_template_columns": null,
      "grid_template_rows": null,
      "height": null,
      "justify_content": null,
      "justify_items": null,
      "left": null,
      "margin": null,
      "max_height": null,
      "max_width": null,
      "min_height": null,
      "min_width": null,
      "object_fit": null,
      "object_position": null,
      "order": null,
      "overflow": null,
      "overflow_x": null,
      "overflow_y": null,
      "padding": null,
      "right": null,
      "top": null,
      "visibility": null,
      "width": null
     }
    }
   }
  }
 },
 "nbformat": 4,
 "nbformat_minor": 1
}
